{
 "cells": [
  {
   "cell_type": "markdown",
   "metadata": {},
   "source": [
    "# Introduction to pySpark 2.0.1"
   ]
  },
  {
   "cell_type": "markdown",
   "metadata": {},
   "source": [
    "### Sources\n",
    "\n",
    "http://spark.apache.org/\n",
    "\n",
    "https://databricks.com/spark/about\n",
    "\n",
    "https://en.wikipedia.org/wiki/Apache_Hadoop\n",
    "\n",
    "https://github.com/jdorfman/awesome-json-datasets\n",
    "\n",
    "https://api.hearthstonejson.com/v1/latest/enUS/cards.json"
   ]
  },
  {
   "cell_type": "markdown",
   "metadata": {},
   "source": [
    "### Get Data and a Quick Introduction to Jupyter Notebooks"
   ]
  },
  {
   "cell_type": "code",
   "execution_count": 1,
   "metadata": {
    "collapsed": true
   },
   "outputs": [],
   "source": [
    "from IPython.display import IFrame\n",
    "import requests\n",
    "import json"
   ]
  },
  {
   "cell_type": "code",
   "execution_count": 2,
   "metadata": {
    "collapsed": true
   },
   "outputs": [],
   "source": [
    "# Aggregations\n"
   ]
  },
  {
   "cell_type": "code",
   "execution_count": 3,
   "metadata": {
    "collapsed": false
   },
   "outputs": [],
   "source": [
    "r = requests.get('https://api.hearthstonejson.com/v1/latest/enUS/cards.json')"
   ]
  },
  {
   "cell_type": "code",
   "execution_count": 4,
   "metadata": {
    "collapsed": false
   },
   "outputs": [],
   "source": [
    "with open('data.json', 'w') as f:\n",
    "    f.write(r.text)"
   ]
  },
  {
   "cell_type": "markdown",
   "metadata": {},
   "source": [
    "### Intro To Spark\n",
    "\n",
    "#### Timeline\n",
    "- 2004 [Mapreduce](http://research.google.com/archive/mapreduce.html): A processing framework for big data sets \n",
    "- 2006 [Hadoop](https://hadoop.apache.org/): Distributed file system\n",
    "- 2009 [Spark](https://en.wikipedia.org/wiki/Matei_Zaharia): Processing framework idea created\n",
    "- 2012 Hadoop 1.0 released\n",
    "- 2013 [Hive](https://hive.apache.org/): SQL-like queries on Hadoop\n",
    "- 2014 Spark 1.0 released\n",
    "- 2015 Hive 1.0 released\n",
    "- 2016 Spark 2.0 released\n",
    "\n",
    "#### Description of Spark\n",
    "\n",
    "[Open source](https://github.com/apache/spark) processing engine. Built for speed and ease of use. Currently has over 1,000 contributors and adopted by large companies like Yahoo and Netflix. Applications can be written in Java, Scala, Python and R with similar verbage. General stacks of SQL/Dataframe, Streaming, MLib, and GraphX. Runs in many environments Hadoop, Mesos or standalone.\n",
    "\n",
    "\n",
    "#### Spark version comparison\n",
    "\n",
    "Spark 1.6 was released in January, 2016. Spark 2.0 was released in July, 2016 (we are using 2.0.1 released in October, 2016). Major differences (if you ever need to go back to 1.6)\n",
    "- Dataframe and Dataset have been unified\n",
    "- SparkSession replaces the need for separate contexts\n",
    "- Improved SQL functionality and performance\n",
    "- Experimental 'Structured Streaming'\n",
    "\n"
   ]
  },
  {
   "cell_type": "markdown",
   "metadata": {},
   "source": [
    "### How does Spark work?\n",
    "\n",
    "#### [Cluster mode](http://spark.apache.org/docs/latest/cluster-overview.html)\n",
    "\n",
    "![title](http://spark.apache.org/docs/latest/img/cluster-overview.png)\n",
    "\n",
    "- App: User program built on Spark\n",
    "- Driver: Process running the main() function and creating the SparkContext\n",
    "- Worker: Any node that can run the app code\n",
    "- Executor: Process launched for an application on a worker - keeps data in memory\n",
    "- Task: Unit of work sent to an executor\n",
    "- Job: Parallel computation consisting of multiple tasks\n",
    "- Stage: Part of a task\n"
   ]
  },
  {
   "cell_type": "markdown",
   "metadata": {},
   "source": [
    "### Spark Session\n",
    "\n",
    "#### What is a SparkSession?\n",
    "\n",
    "A Spark session provides a single point of entry to interact with Sparks underlying functionality. It allows programming Spark with Dataset APIs. Once a spark session is created, users have access to the spark and sql contexts.\n"
   ]
  },
  {
   "cell_type": "code",
   "execution_count": 5,
   "metadata": {
    "collapsed": false
   },
   "outputs": [
    {
     "data": {
      "text/plain": [
       "'2.0.1'"
      ]
     },
     "execution_count": 5,
     "metadata": {},
     "output_type": "execute_result"
    }
   ],
   "source": [
    "# Build a Spark Session for examples\n",
    "from pyspark.sql import SparkSession\n",
    "\n",
    "spark = SparkSession \\\n",
    "    .builder \\\n",
    "    .appName(\"Python Spark SQL basic example\") \\\n",
    "    .getOrCreate()\n",
    "\n",
    "    \n",
    "spark.version"
   ]
  },
  {
   "cell_type": "markdown",
   "metadata": {},
   "source": [
    "### Small Spark Test"
   ]
  },
  {
   "cell_type": "code",
   "execution_count": 6,
   "metadata": {
    "collapsed": false
   },
   "outputs": [
    {
     "data": {
      "text/plain": [
       "PythonRDD[1] at RDD at PythonRDD.scala:48"
      ]
     },
     "execution_count": 6,
     "metadata": {},
     "output_type": "execute_result"
    }
   ],
   "source": [
    "# simple task to test that Spark is running\n",
    "rdd = spark.sparkContext.parallelize(range(1000))\n",
    "rdd"
   ]
  },
  {
   "cell_type": "code",
   "execution_count": 7,
   "metadata": {
    "collapsed": false
   },
   "outputs": [
    {
     "data": {
      "text/plain": [
       "[750, 944, 148, 220, 269]"
      ]
     },
     "execution_count": 7,
     "metadata": {},
     "output_type": "execute_result"
    }
   ],
   "source": [
    "rdd.takeSample(False, 5)"
   ]
  },
  {
   "cell_type": "markdown",
   "metadata": {},
   "source": [
    "If you see five random numbers above, everything is working!\n",
    "\n",
    "### What is an RDD?\n",
    "\n",
    "An [RDD](http://spark.apache.org/docs/latest/programming-guide.html#resilient-distributed-datasets-rdds) is a Resilient Distributed Dataset. A fault tolerant collection of elements which can be operated on in parallel. Let's use RDDs for a bit."
   ]
  },
  {
   "cell_type": "code",
   "execution_count": 8,
   "metadata": {
    "collapsed": false
   },
   "outputs": [
    {
     "data": {
      "text/plain": [
       "PythonRDD[1] at RDD at PythonRDD.scala:48"
      ]
     },
     "execution_count": 8,
     "metadata": {},
     "output_type": "execute_result"
    }
   ],
   "source": [
    "rdd"
   ]
  },
  {
   "cell_type": "code",
   "execution_count": 9,
   "metadata": {
    "collapsed": false
   },
   "outputs": [
    {
     "data": {
      "text/plain": [
       "PythonRDD[1] at RDD at PythonRDD.scala:48"
      ]
     },
     "execution_count": 9,
     "metadata": {},
     "output_type": "execute_result"
    }
   ],
   "source": [
    "rdd"
   ]
  },
  {
   "cell_type": "code",
   "execution_count": 10,
   "metadata": {
    "collapsed": false
   },
   "outputs": [
    {
     "data": {
      "text/html": [
       "\n",
       "        <iframe\n",
       "            width=\"1000\"\n",
       "            height=\"300\"\n",
       "            src=\"http://spark.apache.org/docs/latest/programming-guide.html#transformations\"\n",
       "            frameborder=\"0\"\n",
       "            allowfullscreen\n",
       "        ></iframe>\n",
       "        "
      ],
      "text/plain": [
       "<IPython.lib.display.IFrame at 0x7f618d528c50>"
      ]
     },
     "execution_count": 10,
     "metadata": {},
     "output_type": "execute_result"
    }
   ],
   "source": [
    "IFrame(\"http://spark.apache.org/docs/latest/programming-guide.html#transformations\", 1000, 300)"
   ]
  },
  {
   "cell_type": "code",
   "execution_count": 11,
   "metadata": {
    "collapsed": false
   },
   "outputs": [
    {
     "data": {
      "text/plain": [
       "[0, 1, 2, 3, 4]"
      ]
     },
     "execution_count": 11,
     "metadata": {},
     "output_type": "execute_result"
    }
   ],
   "source": [
    "rdd.take(5)"
   ]
  },
  {
   "cell_type": "code",
   "execution_count": 12,
   "metadata": {
    "collapsed": false
   },
   "outputs": [
    {
     "data": {
      "text/plain": [
       "1000"
      ]
     },
     "execution_count": 12,
     "metadata": {},
     "output_type": "execute_result"
    }
   ],
   "source": [
    "rdd.count()"
   ]
  },
  {
   "cell_type": "code",
   "execution_count": 13,
   "metadata": {
    "collapsed": false
   },
   "outputs": [
    {
     "data": {
      "text/plain": [
       "499500"
      ]
     },
     "execution_count": 13,
     "metadata": {},
     "output_type": "execute_result"
    }
   ],
   "source": [
    "rdd.reduce(lambda a, b: a + b)"
   ]
  },
  {
   "cell_type": "code",
   "execution_count": 14,
   "metadata": {
    "collapsed": false
   },
   "outputs": [
    {
     "data": {
      "text/plain": [
       "999000"
      ]
     },
     "execution_count": 14,
     "metadata": {},
     "output_type": "execute_result"
    }
   ],
   "source": [
    "rdd.map(lambda x: 2*x).reduce(lambda a, b: a + b)"
   ]
  },
  {
   "cell_type": "code",
   "execution_count": 15,
   "metadata": {
    "collapsed": false
   },
   "outputs": [
    {
     "data": {
      "text/plain": [
       "20"
      ]
     },
     "execution_count": 15,
     "metadata": {},
     "output_type": "execute_result"
    }
   ],
   "source": [
    "rdd.map(lambda x: 2*x).filter(lambda x: x < 10).reduce(lambda a, b: a + b)"
   ]
  },
  {
   "cell_type": "code",
   "execution_count": 16,
   "metadata": {
    "collapsed": false
   },
   "outputs": [
    {
     "data": {
      "text/plain": [
       "20"
      ]
     },
     "execution_count": 16,
     "metadata": {},
     "output_type": "execute_result"
    }
   ],
   "source": [
    "def times_two(x):\n",
    "    return 2 * x\n",
    "\n",
    "def less_than_ten(x):\n",
    "    return x < 10\n",
    "\n",
    "def add_together(x, y):\n",
    "    return x + y\n",
    "\n",
    "rdd.map(times_two).filter(less_than_ten).reduce(add_together)"
   ]
  },
  {
   "cell_type": "markdown",
   "metadata": {},
   "source": [
    "RDD's are the fundamental building block of data in Spark.\n",
    "\n",
    "Now for another test to show more of the functionality of Spark Parallelize."
   ]
  },
  {
   "cell_type": "code",
   "execution_count": 17,
   "metadata": {
    "collapsed": false
   },
   "outputs": [
    {
     "name": "stdout",
     "output_type": "stream",
     "text": [
      "Pi is roughly 3.140160\n"
     ]
    }
   ],
   "source": [
    "partitions = 5 # How many times to break up the computation\n",
    "\n",
    "#Spark pi approximation example\n",
    "from random import random\n",
    "from operator import add\n",
    "\n",
    "n = 100000 * partitions # Number of times to run the computation\n",
    "range_data = range(1, n + 1) # Data to be parallelized\n",
    "\n",
    "def f(_):\n",
    "    x = random() * 2 - 1\n",
    "    y = random() * 2 - 1\n",
    "    return 1 if x ** 2 + y ** 2 < 1 else 0\n",
    "\n",
    "count = spark.sparkContext.parallelize(range_data, partitions).map(f).reduce(add)\n",
    "print(\"Pi is roughly %f\" % (4.0 * count / n))\n"
   ]
  },
  {
   "cell_type": "markdown",
   "metadata": {},
   "source": [
    "### Spark UI\n",
    "\n",
    "Lets run some code through the command line and take a look at the Spark UI\n",
    "\n",
    "We will open the Spark UI through the link http://localhost:4040\n",
    "\n",
    "Nothing will be there yet. Go back to our Jupyter Home and open a new terminal. In the terminal window, paste and run the following command.\n",
    "\n",
    "\n",
    "```\n",
    "/spark/bin/spark-submit /spark/examples/src/main/python/pi.py 2\n",
    "```\n"
   ]
  },
  {
   "cell_type": "markdown",
   "metadata": {
    "collapsed": true
   },
   "source": [
    "### Warning\n",
    "Warning about distributed computations (and thus RDDs). Don't do this:"
   ]
  },
  {
   "cell_type": "code",
   "execution_count": 18,
   "metadata": {
    "collapsed": false
   },
   "outputs": [
    {
     "name": "stdout",
     "output_type": "stream",
     "text": [
      "Counter value:  0\n"
     ]
    }
   ],
   "source": [
    "counter = 0\n",
    "\n",
    "# Wrong: Don't do this!!\n",
    "def increment_counter(x):\n",
    "    global counter\n",
    "    counter += x\n",
    "\n",
    "rdd.foreach(increment_counter)\n",
    "\n",
    "print(\"Counter value: \", counter)"
   ]
  },
  {
   "cell_type": "markdown",
   "metadata": {},
   "source": [
    "### [Closures](http://spark.apache.org/docs/latest/programming-guide.html#understanding-closures-a-nameclosureslinka)\n",
    "One of the hardest things about running Spark on a cluster is the scope and lifecycle of variables. The behavior of the above loop is undefined. To execute jobs, Spark breaks up the processing of RDD operations into tasks. Prior to execution, Spark computes a tasks **closure**. A closure is the variables and methods which must be visible for the exectutor to perform its computations on the RDD. the counter which is incremented in the closure is likely to not be the counter in the driver.\n",
    "\n",
    "In short, don't mutate global state inside a closure."
   ]
  },
  {
   "cell_type": "markdown",
   "metadata": {},
   "source": [
    "### DataFrames/DataSets"
   ]
  },
  {
   "cell_type": "code",
   "execution_count": 19,
   "metadata": {
    "collapsed": false
   },
   "outputs": [
    {
     "data": {
      "text/plain": [
       "<Row(first, last, graduation_year)>"
      ]
     },
     "execution_count": 19,
     "metadata": {},
     "output_type": "execute_result"
    }
   ],
   "source": [
    "from pyspark.sql import Row\n",
    "\n",
    "Student = Row(\"first\", \"last\", \"graduation_year\")\n",
    "\n",
    "Student"
   ]
  },
  {
   "cell_type": "code",
   "execution_count": 20,
   "metadata": {
    "collapsed": false
   },
   "outputs": [
    {
     "data": {
      "text/plain": [
       "Row(first='J', last='Smith', graduation_year=2017)"
      ]
     },
     "execution_count": 20,
     "metadata": {},
     "output_type": "execute_result"
    }
   ],
   "source": [
    "Student(\"J\", \"Smith\", 2017)"
   ]
  },
  {
   "cell_type": "code",
   "execution_count": 21,
   "metadata": {
    "collapsed": false
   },
   "outputs": [
    {
     "data": {
      "text/plain": [
       "DataFrame[value: bigint]"
      ]
     },
     "execution_count": 21,
     "metadata": {},
     "output_type": "execute_result"
    }
   ],
   "source": [
    "from pyspark.sql import Row\n",
    "\n",
    "row = Row(\"value\") # value is our column name\n",
    "\n",
    "rdd = spark.sparkContext.parallelize(range(1000))\n",
    "\n",
    "df = rdd.map(row).toDF()\n",
    "df"
   ]
  },
  {
   "cell_type": "code",
   "execution_count": 22,
   "metadata": {
    "collapsed": false
   },
   "outputs": [
    {
     "data": {
      "text/plain": [
       "[Row(value=0), Row(value=1), Row(value=2), Row(value=3), Row(value=4)]"
      ]
     },
     "execution_count": 22,
     "metadata": {},
     "output_type": "execute_result"
    }
   ],
   "source": [
    "df.take(5)"
   ]
  },
  {
   "cell_type": "code",
   "execution_count": 23,
   "metadata": {
    "collapsed": false
   },
   "outputs": [
    {
     "data": {
      "text/plain": [
       "1000"
      ]
     },
     "execution_count": 23,
     "metadata": {},
     "output_type": "execute_result"
    }
   ],
   "source": [
    "df.count()"
   ]
  },
  {
   "cell_type": "code",
   "execution_count": 24,
   "metadata": {
    "collapsed": false
   },
   "outputs": [
    {
     "data": {
      "text/plain": [
       "DataFrame[value: bigint]"
      ]
     },
     "execution_count": 24,
     "metadata": {},
     "output_type": "execute_result"
    }
   ],
   "source": [
    "df # There is no longer a map or reduce option"
   ]
  },
  {
   "cell_type": "code",
   "execution_count": 25,
   "metadata": {
    "collapsed": true
   },
   "outputs": [],
   "source": [
    "from pyspark.sql.functions import *"
   ]
  },
  {
   "cell_type": "code",
   "execution_count": 26,
   "metadata": {
    "collapsed": false
   },
   "outputs": [
    {
     "data": {
      "text/plain": [
       "DataFrame[sum(value): bigint]"
      ]
     },
     "execution_count": 26,
     "metadata": {},
     "output_type": "execute_result"
    }
   ],
   "source": [
    "df.agg(sum(df.value))"
   ]
  },
  {
   "cell_type": "code",
   "execution_count": 27,
   "metadata": {
    "collapsed": false
   },
   "outputs": [
    {
     "data": {
      "text/plain": [
       "[Row(sum(value)=499500)]"
      ]
     },
     "execution_count": 27,
     "metadata": {},
     "output_type": "execute_result"
    }
   ],
   "source": [
    "df.agg(sum(df.value)).collect()"
   ]
  },
  {
   "cell_type": "markdown",
   "metadata": {},
   "source": [
    "### Reading Json Data With Spark"
   ]
  },
  {
   "cell_type": "code",
   "execution_count": 28,
   "metadata": {
    "collapsed": false
   },
   "outputs": [
    {
     "data": {
      "text/plain": [
       "DataFrame[artist: string, attack: bigint, collectible: boolean, cost: bigint, durability: bigint, dust: array<bigint>, entourage: array<string>, faction: string, flavor: string, health: bigint, howToEarn: string, howToEarnGolden: string, id: string, mechanics: array<string>, name: string, overload: bigint, playRequirements: struct<REQ_DAMAGED_TARGET:bigint,REQ_ENEMY_TARGET:bigint,REQ_ENEMY_WEAPON_EQUIPPED:bigint,REQ_ENTIRE_ENTOURAGE_NOT_IN_PLAY:bigint,REQ_FRIENDLY_MINION_DIED_THIS_GAME:bigint,REQ_FRIENDLY_TARGET:bigint,REQ_FROZEN_TARGET:bigint,REQ_HERO_TARGET:bigint,REQ_LEGENDARY_TARGET:bigint,REQ_MINIMUM_ENEMY_MINIONS:bigint,REQ_MINIMUM_TOTAL_MINIONS:bigint,REQ_MINION_OR_ENEMY_HERO:bigint,REQ_MINION_TARGET:bigint,REQ_MUST_TARGET_TAUNTER:bigint,REQ_NONSELF_TARGET:bigint,REQ_NUM_MINION_SLOTS:bigint,REQ_SECRET_CAP_FOR_NON_SECRET:bigint,REQ_STEADY_SHOT:bigint,REQ_TARGET_FOR_COMBO:bigint,REQ_TARGET_IF_AVAILABLE:bigint,REQ_TARGET_IF_AVAILABLE_AND_DRAGON_IN_HAND:bigint,REQ_TARGET_IF_AVAILABLE_AND_MINIMUM_FRIENDLY_MINIONS:bigint,REQ_TARGET_IF_AVAILABLE_AND_MINIMUM_FRIENDLY_SECRETS:bigint,REQ_TARGET_MAX_ATTACK:bigint,REQ_TARGET_MIN_ATTACK:bigint,REQ_TARGET_TO_PLAY:bigint,REQ_TARGET_WITH_DEATHRATTLE:bigint,REQ_TARGET_WITH_RACE:bigint,REQ_UNDAMAGED_TARGET:bigint,REQ_WEAPON_EQUIPPED:bigint>, playerClass: string, race: string, rarity: string, set: string, spellDamage: bigint, targetingArrowText: string, text: string, type: string]"
      ]
     },
     "execution_count": 28,
     "metadata": {},
     "output_type": "execute_result"
    }
   ],
   "source": [
    "df = spark.read.json('data.json')\n",
    "\n",
    "df"
   ]
  },
  {
   "cell_type": "code",
   "execution_count": 29,
   "metadata": {
    "collapsed": false
   },
   "outputs": [
    {
     "name": "stdout",
     "output_type": "stream",
     "text": [
      "+-----------------+------+-----------+----+----------+-------------------+---------+--------+--------------------+------+---------+---------------+---------+-----------+--------------------+--------+--------------------+-----------+-----+------+-------+-----------+--------------------+--------------------+------+\n",
      "|           artist|attack|collectible|cost|durability|               dust|entourage| faction|              flavor|health|howToEarn|howToEarnGolden|       id|  mechanics|                name|overload|    playRequirements|playerClass| race|rarity|    set|spellDamage|  targetingArrowText|                text|  type|\n",
      "+-----------------+------+-----------+----+----------+-------------------+---------+--------+--------------------+------+---------+---------------+---------+-----------+--------------------+--------+--------------------+-----------+-----+------+-------+-----------+--------------------+--------------------+------+\n",
      "|             null|     4|       null|   5|      null|   [40, 400, 5, 50]|     null|    null|                null|     4|     null|           null|EX1_165t1|   [CHARGE]|   Druid of the Claw|    null|                null|      DRUID|BEAST|COMMON|EXPERT1|       null|                null|       <b>Charge</b>|MINION|\n",
      "|      Bernie Kang|     5|       true|   4|      null|   [40, 400, 5, 50]|     null|ALLIANCE|Most pandaren say...|     4|     null|           null|  EX1_057|[BATTLECRY]|  Ancient Brewmaster|    null|[null,null,null,n...|    NEUTRAL| null|COMMON|EXPERT1|       null|Return a minion t...|<b>Battlecry:</b>...|MINION|\n",
      "|             null|  null|       null|null|      null|               null|     null|    null|                null|    60|     null|           null|  TBA01_1|       null|Ragnaros the Fire...|    null|                null|    NEUTRAL| null|  null|     TB|       null|                null|                null|  HERO|\n",
      "|Michael Franchina|     3|       true|   3|         2|[100, 800, 20, 100]|     null|    null|\"King's Attacker\"...|  null|     null|           null|   AT_065|[BATTLECRY]|     King's Defender|    null|                null|    WARRIOR| null|  RARE|    TGT|       null|                null|<b>Battlecry:</b>...|WEAPON|\n",
      "|        E.M. Gist|  null|       true|   2|      null|   [40, 400, 5, 50]|     null|    null|\"Dun da dun, dun ...|  null|     null|           null|  EX1_391|       null|                Slam|    null|[null,null,null,n...|    WARRIOR| null|COMMON|EXPERT1|       null|                null|Deal $2 damage to...| SPELL|\n",
      "+-----------------+------+-----------+----+----------+-------------------+---------+--------+--------------------+------+---------+---------------+---------+-----------+--------------------+--------+--------------------+-----------+-----+------+-------+-----------+--------------------+--------------------+------+\n",
      "only showing top 5 rows\n",
      "\n"
     ]
    }
   ],
   "source": [
    "# Displays 5 rows of the the contents of data.json\n",
    "df.show(5)"
   ]
  },
  {
   "cell_type": "code",
   "execution_count": 30,
   "metadata": {
    "collapsed": false
   },
   "outputs": [
    {
     "data": {
      "text/plain": [
       "['artist',\n",
       " 'attack',\n",
       " 'collectible',\n",
       " 'cost',\n",
       " 'durability',\n",
       " 'dust',\n",
       " 'entourage',\n",
       " 'faction',\n",
       " 'flavor',\n",
       " 'health',\n",
       " 'howToEarn',\n",
       " 'howToEarnGolden',\n",
       " 'id',\n",
       " 'mechanics',\n",
       " 'name',\n",
       " 'overload',\n",
       " 'playRequirements',\n",
       " 'playerClass',\n",
       " 'race',\n",
       " 'rarity',\n",
       " 'set',\n",
       " 'spellDamage',\n",
       " 'targetingArrowText',\n",
       " 'text',\n",
       " 'type']"
      ]
     },
     "execution_count": 30,
     "metadata": {},
     "output_type": "execute_result"
    }
   ],
   "source": [
    "df.columns"
   ]
  },
  {
   "cell_type": "code",
   "execution_count": 31,
   "metadata": {
    "collapsed": false
   },
   "outputs": [],
   "source": [
    "# Sum columns\n",
    "df_sum = df.groupBy(['playerClass']).sum()"
   ]
  },
  {
   "cell_type": "code",
   "execution_count": 32,
   "metadata": {
    "collapsed": false
   },
   "outputs": [
    {
     "name": "stdout",
     "output_type": "stream",
     "text": [
      "+-----------+-----------+---------+---------------+-----------+-------------+----------------+\n",
      "|playerClass|sum(attack)|sum(cost)|sum(durability)|sum(health)|sum(overload)|sum(spellDamage)|\n",
      "+-----------+-----------+---------+---------------+-----------+-------------+----------------+\n",
      "|     HUNTER|        134|      229|              6|        235|         null|            null|\n",
      "|     SHAMAN|        112|      206|             22|        196|           31|               1|\n",
      "|    PALADIN|        101|      226|             21|        158|         null|            null|\n",
      "|       MAGE|        109|      261|           null|        460|         null|               4|\n",
      "|     PRIEST|         90|      212|           null|        171|         null|            null|\n",
      "|    WARLOCK|        143|      256|              8|        301|         null|            null|\n",
      "|    NEUTRAL|       2505|     3381|             88|       7992|            4|              17|\n",
      "|    WARRIOR|        143|      231|             28|        226|         null|            null|\n",
      "|      DRUID|        172|      295|           null|        208|         null|               2|\n",
      "|      ROGUE|        131|      219|             18|        164|         null|            null|\n",
      "|      DREAM|         10|        9|           null|         11|         null|            null|\n",
      "+-----------+-----------+---------+---------------+-----------+-------------+----------------+\n",
      "\n"
     ]
    }
   ],
   "source": [
    "# Lazy evaluation, note the non-numeric columns were dropped\n",
    "df_sum.show()"
   ]
  },
  {
   "cell_type": "code",
   "execution_count": 33,
   "metadata": {
    "collapsed": true
   },
   "outputs": [],
   "source": [
    "# Generate Averages of Numeric columns\n",
    "df_avg = df.groupBy(\n",
    "    [\n",
    "        'playerClass',\n",
    "    ]\n",
    ").avg()"
   ]
  },
  {
   "cell_type": "code",
   "execution_count": 34,
   "metadata": {
    "collapsed": false
   },
   "outputs": [
    {
     "name": "stdout",
     "output_type": "stream",
     "text": [
      "+-----------+------------------+\n",
      "|playerClass|       avg(attack)|\n",
      "+-----------+------------------+\n",
      "|     SHAMAN| 2.604651162790698|\n",
      "|    PALADIN|3.0606060606060606|\n",
      "|    WARLOCK| 3.108695652173913|\n",
      "|     HUNTER| 3.116279069767442|\n",
      "|      ROGUE|3.1951219512195124|\n",
      "|     PRIEST|3.2142857142857144|\n",
      "|    WARRIOR|              3.25|\n",
      "|    NEUTRAL| 3.380566801619433|\n",
      "|       MAGE|3.5161290322580645|\n",
      "|      DRUID|3.6595744680851063|\n",
      "|      DREAM|               5.0|\n",
      "+-----------+------------------+\n",
      "\n"
     ]
    }
   ],
   "source": [
    "df_avg.sort(\n",
    "    'avg(attack)'\n",
    ").select(\n",
    "    [\n",
    "        'playerClass', \n",
    "        'avg(attack)',\n",
    "    ]\n",
    ").show()"
   ]
  },
  {
   "cell_type": "markdown",
   "metadata": {},
   "source": [
    "### Plotting the results"
   ]
  },
  {
   "cell_type": "code",
   "execution_count": 35,
   "metadata": {
    "collapsed": false
   },
   "outputs": [],
   "source": [
    "# Import a common plotting library\n",
    "import seaborn as sns\n",
    "%matplotlib inline\n"
   ]
  },
  {
   "cell_type": "code",
   "execution_count": 36,
   "metadata": {
    "collapsed": false
   },
   "outputs": [],
   "source": [
    "# Most plotting libraries require a conversion from spark dataframes to plot. Pandas is a good target\n",
    "df_plot = df_avg.toPandas()"
   ]
  },
  {
   "cell_type": "code",
   "execution_count": 37,
   "metadata": {
    "collapsed": false
   },
   "outputs": [
    {
     "data": {
      "image/png": "[encoded data removed]",
      "text/plain": [
       "<matplotlib.figure.Figure at 0x7f617ae30160>"
      ]
     },
     "metadata": {},
     "output_type": "display_data"
    }
   ],
   "source": [
    "# Show the results of a linear regression within each dataset\n",
    "p = sns.swarmplot(\n",
    "    x='playerClass', \n",
    "    y=\"avg(attack)\", \n",
    "    data=df_plot,\n",
    "    size=8,\n",
    ").set_xticklabels( # Makes the axix labels look a bit better\n",
    "    df_plot['playerClass'], \n",
    "    rotation=30\n",
    ")\n"
   ]
  },
  {
   "cell_type": "code",
   "execution_count": 38,
   "metadata": {
    "collapsed": false
   },
   "outputs": [],
   "source": [
    "df_plot = df.sort(\n",
    "    'playerClass'\n",
    ").toPandas()"
   ]
  },
  {
   "cell_type": "code",
   "execution_count": 39,
   "metadata": {
    "collapsed": false
   },
   "outputs": [
    {
     "data": {
      "text/plain": [
       "<matplotlib.axes._subplots.AxesSubplot at 0x7f6177316588>"
      ]
     },
     "execution_count": 39,
     "metadata": {},
     "output_type": "execute_result"
    },
    {
     "data": {
      "image/png": "[encoded data removed]",
      "text/plain": [
       "<matplotlib.figure.Figure at 0x7f61770e0a90>"
      ]
     },
     "metadata": {},
     "output_type": "display_data"
    }
   ],
   "source": [
    "ax = sns.violinplot(\n",
    "    x='playerClass', \n",
    "    y=\"attack\", \n",
    "    data=df_plot\n",
    ")\n",
    "\n",
    "# Makes the axis readable\n",
    "for item in ax.get_xticklabels():\n",
    "    item.set_rotation(45)\n",
    "\n",
    "ax"
   ]
  },
  {
   "cell_type": "markdown",
   "metadata": {
    "collapsed": true
   },
   "source": [
    "### MLLib Library\n",
    "\n",
    "Spark has a nicely sized machine learning library available in [pyspark.mllib](http://spark.apache.org/docs/latest/api/python/pyspark.mllib.html)\n",
    "\n",
    "Let's run the Random Forest model from the examples on the page"
   ]
  },
  {
   "cell_type": "code",
   "execution_count": 40,
   "metadata": {
    "collapsed": false
   },
   "outputs": [
    {
     "data": {
      "text/html": [
       "\n",
       "        <iframe\n",
       "            width=\"950\"\n",
       "            height=\"300\"\n",
       "            src=\"http://spark.apache.org/docs/latest/api/python/pyspark.mllib.html\"\n",
       "            frameborder=\"0\"\n",
       "            allowfullscreen\n",
       "        ></iframe>\n",
       "        "
      ],
      "text/plain": [
       "<IPython.lib.display.IFrame at 0x7f617ae30048>"
      ]
     },
     "execution_count": 40,
     "metadata": {},
     "output_type": "execute_result"
    }
   ],
   "source": [
    "IFrame(\"http://spark.apache.org/docs/latest/api/python/pyspark.mllib.html\", 950, 300)"
   ]
  },
  {
   "cell_type": "code",
   "execution_count": 41,
   "metadata": {
    "collapsed": false
   },
   "outputs": [
    {
     "data": {
      "text/plain": [
       "3"
      ]
     },
     "execution_count": 41,
     "metadata": {},
     "output_type": "execute_result"
    }
   ],
   "source": [
    "from pyspark.mllib.regression import LabeledPoint\n",
    "from pyspark.mllib.tree import RandomForest\n",
    "\n",
    "data = [\n",
    "    LabeledPoint(0.0, [0.0]),\n",
    "    LabeledPoint(0.0, [1.0]),\n",
    "    LabeledPoint(1.0, [2.0]),\n",
    "    LabeledPoint(1.0, [3.0])\n",
    "]\n",
    "# Note the example has sc in place of spark.sparkContext\n",
    "model = RandomForest.trainClassifier(\n",
    "    data=spark.sparkContext.parallelize(data), \n",
    "    numClasses=2, \n",
    "    categoricalFeaturesInfo={}, \n",
    "    numTrees=3, \n",
    "    seed=42\n",
    ")\n",
    "model.numTrees()"
   ]
  },
  {
   "cell_type": "code",
   "execution_count": 42,
   "metadata": {
    "collapsed": false
   },
   "outputs": [
    {
     "data": {
      "text/plain": [
       "7"
      ]
     },
     "execution_count": 42,
     "metadata": {},
     "output_type": "execute_result"
    }
   ],
   "source": [
    "model.totalNumNodes()"
   ]
  },
  {
   "cell_type": "code",
   "execution_count": 43,
   "metadata": {
    "collapsed": false
   },
   "outputs": [
    {
     "data": {
      "text/plain": [
       "TreeEnsembleModel classifier with 3 trees"
      ]
     },
     "execution_count": 43,
     "metadata": {},
     "output_type": "execute_result"
    }
   ],
   "source": [
    "model"
   ]
  },
  {
   "cell_type": "code",
   "execution_count": 44,
   "metadata": {
    "collapsed": false
   },
   "outputs": [
    {
     "name": "stdout",
     "output_type": "stream",
     "text": [
      "TreeEnsembleModel classifier with 3 trees\n",
      "\n",
      "  Tree 0:\n",
      "    Predict: 1.0\n",
      "  Tree 1:\n",
      "    If (feature 0 <= 1.0)\n",
      "     Predict: 0.0\n",
      "    Else (feature 0 > 1.0)\n",
      "     Predict: 1.0\n",
      "  Tree 2:\n",
      "    If (feature 0 <= 1.0)\n",
      "     Predict: 0.0\n",
      "    Else (feature 0 > 1.0)\n",
      "     Predict: 1.0\n",
      "\n"
     ]
    }
   ],
   "source": [
    "print(model.toDebugString())"
   ]
  },
  {
   "cell_type": "code",
   "execution_count": 45,
   "metadata": {
    "collapsed": false
   },
   "outputs": [
    {
     "data": {
      "text/plain": [
       "1.0"
      ]
     },
     "execution_count": 45,
     "metadata": {},
     "output_type": "execute_result"
    }
   ],
   "source": [
    "model.predict([2.0])"
   ]
  },
  {
   "cell_type": "code",
   "execution_count": 46,
   "metadata": {
    "collapsed": false
   },
   "outputs": [
    {
     "data": {
      "text/plain": [
       "0.0"
      ]
     },
     "execution_count": 46,
     "metadata": {},
     "output_type": "execute_result"
    }
   ],
   "source": [
    "model.predict([0.0])"
   ]
  },
  {
   "cell_type": "code",
   "execution_count": 47,
   "metadata": {
    "collapsed": false
   },
   "outputs": [
    {
     "data": {
      "text/plain": [
       "[1.0, 0.0]"
      ]
     },
     "execution_count": 47,
     "metadata": {},
     "output_type": "execute_result"
    }
   ],
   "source": [
    "test_rdd = spark.sparkContext.parallelize([[3.0], [1.0]])\n",
    "model.predict(test_rdd).collect()"
   ]
  },
  {
   "cell_type": "markdown",
   "metadata": {},
   "source": [
    "### Predict Attack By Cost"
   ]
  },
  {
   "cell_type": "code",
   "execution_count": 48,
   "metadata": {
    "collapsed": false
   },
   "outputs": [
    {
     "name": "stdout",
     "output_type": "stream",
     "text": [
      "+-------+------------------+-----------------+------------------+------------------+------------------+------------------+\n",
      "|summary|            attack|             cost|        durability|            health|          overload|       spellDamage|\n",
      "+-------+------------------+-----------------+------------------+------------------+------------------+------------------+\n",
      "|  count|              1099|             1918|                61|              1209|                21|                16|\n",
      "|   mean|3.3212010919017287|2.880604796663191|3.1311475409836067| 8.372208436724566|1.6666666666666667|               1.5|\n",
      "| stddev| 2.468677369558745|2.667415632149458|1.7461902324399974|13.370067209565795|0.6582805886043833|1.0327955589886444|\n",
      "|    min|                 0|                0|                 1|                 0|                 1|                 1|\n",
      "|    max|                30|               50|                 8|               200|                 3|                 5|\n",
      "+-------+------------------+-----------------+------------------+------------------+------------------+------------------+\n",
      "\n"
     ]
    }
   ],
   "source": [
    "df.describe().show()"
   ]
  },
  {
   "cell_type": "code",
   "execution_count": 49,
   "metadata": {
    "collapsed": false
   },
   "outputs": [
    {
     "data": {
      "text/plain": [
       "['artist',\n",
       " 'attack',\n",
       " 'collectible',\n",
       " 'cost',\n",
       " 'durability',\n",
       " 'dust',\n",
       " 'entourage',\n",
       " 'faction',\n",
       " 'flavor',\n",
       " 'health',\n",
       " 'howToEarn',\n",
       " 'howToEarnGolden',\n",
       " 'id',\n",
       " 'mechanics',\n",
       " 'name',\n",
       " 'overload',\n",
       " 'playRequirements',\n",
       " 'playerClass',\n",
       " 'race',\n",
       " 'rarity',\n",
       " 'set',\n",
       " 'spellDamage',\n",
       " 'targetingArrowText',\n",
       " 'text',\n",
       " 'type']"
      ]
     },
     "execution_count": 49,
     "metadata": {},
     "output_type": "execute_result"
    }
   ],
   "source": [
    "df.columns"
   ]
  },
  {
   "cell_type": "code",
   "execution_count": 72,
   "metadata": {
    "collapsed": false
   },
   "outputs": [],
   "source": [
    "train_rdd = df.select('attack', 'playerClass', 'cost', 'rarity').where(df.attack.isNotNull()).rdd"
   ]
  },
  {
   "cell_type": "code",
   "execution_count": 74,
   "metadata": {
    "collapsed": false
   },
   "outputs": [
    {
     "data": {
      "text/plain": [
       "[Row(attack=4, playerClass='DRUID', cost=5, rarity='COMMON'),\n",
       " Row(attack=5, playerClass='NEUTRAL', cost=4, rarity='COMMON'),\n",
       " Row(attack=3, playerClass='WARRIOR', cost=3, rarity='RARE'),\n",
       " Row(attack=5, playerClass='SHAMAN', cost=4, rarity='RARE'),\n",
       " Row(attack=7, playerClass='NEUTRAL', cost=6, rarity='LEGENDARY')]"
      ]
     },
     "execution_count": 74,
     "metadata": {},
     "output_type": "execute_result"
    }
   ],
   "source": [
    "train_rdd.take(5)"
   ]
  },
  {
   "cell_type": "code",
   "execution_count": 52,
   "metadata": {
    "collapsed": false
   },
   "outputs": [],
   "source": [
    "from pyspark.ml.feature import OneHotEncoder, StringIndexer\n"
   ]
  },
  {
   "cell_type": "code",
   "execution_count": 53,
   "metadata": {
    "collapsed": true
   },
   "outputs": [],
   "source": [
    "playerIndexer = StringIndexer(inputCol=\"playerClass\", outputCol=\"playerClassIndex\")\n",
    "playerModel = playerIndexer.fit(df)\n",
    "train_df = playerModel.transform(df)"
   ]
  },
  {
   "cell_type": "code",
   "execution_count": 54,
   "metadata": {
    "collapsed": false
   },
   "outputs": [
    {
     "data": {
      "text/plain": [
       "Row(artist=None, attack=4, collectible=None, cost=5, durability=None, dust=[40, 400, 5, 50], entourage=None, faction=None, flavor=None, health=4, howToEarn=None, howToEarnGolden=None, id='EX1_165t1', mechanics=['CHARGE'], name='Druid of the Claw', overload=None, playRequirements=None, playerClass='DRUID', race='BEAST', rarity='COMMON', set='EXPERT1', spellDamage=None, targetingArrowText=None, text='<b>Charge</b>', type='MINION', playerClassIndex=1.0)"
      ]
     },
     "execution_count": 54,
     "metadata": {},
     "output_type": "execute_result"
    }
   ],
   "source": [
    "train_df.head()"
   ]
  },
  {
   "cell_type": "code",
   "execution_count": 55,
   "metadata": {
    "collapsed": false
   },
   "outputs": [],
   "source": [
    "rarityIndexer = StringIndexer(inputCol=\"rarity\", outputCol=\"rarityIndex\")\n",
    "model = rarityIndexer.fit(train_df)\n"
   ]
  },
  {
   "cell_type": "code",
   "execution_count": 56,
   "metadata": {
    "collapsed": false
   },
   "outputs": [
    {
     "ename": "Py4JJavaError",
     "evalue": "An error occurred while calling o269.transform.\n: java.lang.NullPointerException\n\tat org.apache.spark.sql.types.Metadata$.org$apache$spark$sql$types$Metadata$$hash(Metadata.scala:215)\n\tat org.apache.spark.sql.types.Metadata$$anonfun$org$apache$spark$sql$types$Metadata$$hash$2.apply(Metadata.scala:203)\n\tat org.apache.spark.sql.types.Metadata$$anonfun$org$apache$spark$sql$types$Metadata$$hash$2.apply(Metadata.scala:203)\n\tat scala.collection.TraversableLike$$anonfun$map$1.apply(TraversableLike.scala:234)\n\tat scala.collection.TraversableLike$$anonfun$map$1.apply(TraversableLike.scala:234)\n\tat scala.collection.IndexedSeqOptimized$class.foreach(IndexedSeqOptimized.scala:33)\n\tat scala.collection.mutable.WrappedArray.foreach(WrappedArray.scala:35)\n\tat scala.collection.TraversableLike$class.map(TraversableLike.scala:234)\n\tat scala.collection.AbstractTraversable.map(Traversable.scala:104)\n\tat org.apache.spark.sql.types.Metadata$.org$apache$spark$sql$types$Metadata$$hash(Metadata.scala:203)\n\tat org.apache.spark.sql.types.Metadata$$anonfun$org$apache$spark$sql$types$Metadata$$hash$1.apply(Metadata.scala:200)\n\tat org.apache.spark.sql.types.Metadata$$anonfun$org$apache$spark$sql$types$Metadata$$hash$1.apply(Metadata.scala:200)\n\tat scala.collection.MapLike$MappedValues$$anonfun$foreach$3.apply(MapLike.scala:245)\n\tat scala.collection.MapLike$MappedValues$$anonfun$foreach$3.apply(MapLike.scala:245)\n\tat scala.collection.TraversableLike$WithFilter$$anonfun$foreach$1.apply(TraversableLike.scala:733)\n\tat scala.collection.immutable.Map$Map3.foreach(Map.scala:161)\n\tat scala.collection.TraversableLike$WithFilter.foreach(TraversableLike.scala:732)\n\tat scala.collection.MapLike$MappedValues.foreach(MapLike.scala:245)\n\tat scala.util.hashing.MurmurHash3.unorderedHash(MurmurHash3.scala:91)\n\tat scala.util.hashing.MurmurHash3$.mapHash(MurmurHash3.scala:222)\n\tat scala.collection.GenMapLike$class.hashCode(GenMapLike.scala:35)\n\tat scala.collection.AbstractMap.hashCode(Map.scala:59)\n\tat scala.runtime.ScalaRunTime$.hash(ScalaRunTime.scala:206)\n\tat org.apache.spark.sql.types.Metadata$.org$apache$spark$sql$types$Metadata$$hash(Metadata.scala:200)\n\tat org.apache.spark.sql.types.Metadata$$anonfun$org$apache$spark$sql$types$Metadata$$hash$1.apply(Metadata.scala:200)\n\tat org.apache.spark.sql.types.Metadata$$anonfun$org$apache$spark$sql$types$Metadata$$hash$1.apply(Metadata.scala:200)\n\tat scala.collection.MapLike$MappedValues$$anonfun$foreach$3.apply(MapLike.scala:245)\n\tat scala.collection.MapLike$MappedValues$$anonfun$foreach$3.apply(MapLike.scala:245)\n\tat scala.collection.TraversableLike$WithFilter$$anonfun$foreach$1.apply(TraversableLike.scala:733)\n\tat scala.collection.immutable.Map$Map1.foreach(Map.scala:116)\n\tat scala.collection.TraversableLike$WithFilter.foreach(TraversableLike.scala:732)\n\tat scala.collection.MapLike$MappedValues.foreach(MapLike.scala:245)\n\tat scala.util.hashing.MurmurHash3.unorderedHash(MurmurHash3.scala:91)\n\tat scala.util.hashing.MurmurHash3$.mapHash(MurmurHash3.scala:222)\n\tat scala.collection.GenMapLike$class.hashCode(GenMapLike.scala:35)\n\tat scala.collection.AbstractMap.hashCode(Map.scala:59)\n\tat scala.runtime.ScalaRunTime$.hash(ScalaRunTime.scala:206)\n\tat org.apache.spark.sql.types.Metadata$.org$apache$spark$sql$types$Metadata$$hash(Metadata.scala:200)\n\tat org.apache.spark.sql.types.Metadata._hashCode$lzycompute(Metadata.scala:107)\n\tat org.apache.spark.sql.types.Metadata._hashCode(Metadata.scala:107)\n\tat org.apache.spark.sql.types.Metadata.hashCode(Metadata.scala:108)\n\tat org.apache.spark.sql.catalyst.expressions.AttributeReference.hashCode(namedExpressions.scala:247)\n\tat scala.runtime.ScalaRunTime$.hash(ScalaRunTime.scala:206)\n\tat scala.collection.immutable.HashSet.elemHashCode(HashSet.scala:177)\n\tat scala.collection.immutable.HashSet.computeHash(HashSet.scala:186)\n\tat scala.collection.immutable.HashSet.$plus(HashSet.scala:84)\n\tat scala.collection.immutable.HashSet.$plus(HashSet.scala:35)\n\tat scala.collection.mutable.SetBuilder.$plus$eq(SetBuilder.scala:22)\n\tat scala.collection.mutable.SetBuilder.$plus$eq(SetBuilder.scala:20)\n\tat scala.collection.generic.Growable$class.loop$1(Growable.scala:53)\n\tat scala.collection.generic.Growable$class.$plus$plus$eq(Growable.scala:57)\n\tat scala.collection.mutable.SetBuilder.$plus$plus$eq(SetBuilder.scala:20)\n\tat scala.collection.TraversableLike$class.to(TraversableLike.scala:590)\n\tat scala.collection.AbstractTraversable.to(Traversable.scala:104)\n\tat scala.collection.TraversableOnce$class.toSet(TraversableOnce.scala:304)\n\tat scala.collection.AbstractTraversable.toSet(Traversable.scala:104)\n\tat org.apache.spark.sql.catalyst.trees.TreeNode.containsChild$lzycompute(TreeNode.scala:88)\n\tat org.apache.spark.sql.catalyst.trees.TreeNode.containsChild(TreeNode.scala:88)\n\tat org.apache.spark.sql.catalyst.trees.TreeNode$$anonfun$5$$anonfun$apply$11.apply(TreeNode.scala:349)\n\tat scala.collection.TraversableLike$$anonfun$map$1.apply(TraversableLike.scala:234)\n\tat scala.collection.TraversableLike$$anonfun$map$1.apply(TraversableLike.scala:234)\n\tat scala.collection.immutable.List.foreach(List.scala:381)\n\tat scala.collection.TraversableLike$class.map(TraversableLike.scala:234)\n\tat scala.collection.immutable.List.map(List.scala:285)\n\tat org.apache.spark.sql.catalyst.trees.TreeNode$$anonfun$5.apply(TreeNode.scala:348)\n\tat org.apache.spark.sql.catalyst.trees.TreeNode.mapProductIterator(TreeNode.scala:179)\n\tat org.apache.spark.sql.catalyst.trees.TreeNode.transformChildren(TreeNode.scala:319)\n\tat org.apache.spark.sql.catalyst.trees.TreeNode.transformDown(TreeNode.scala:286)\n\tat org.apache.spark.sql.catalyst.plans.QueryPlan.transformExpressionDown$1(QueryPlan.scala:157)\n\tat org.apache.spark.sql.catalyst.plans.QueryPlan.org$apache$spark$sql$catalyst$plans$QueryPlan$$recursiveTransform$1(QueryPlan.scala:167)\n\tat org.apache.spark.sql.catalyst.plans.QueryPlan$$anonfun$4.apply(QueryPlan.scala:176)\n\tat org.apache.spark.sql.catalyst.trees.TreeNode.mapProductIterator(TreeNode.scala:179)\n\tat org.apache.spark.sql.catalyst.plans.QueryPlan.transformExpressionsDown(QueryPlan.scala:176)\n\tat org.apache.spark.sql.catalyst.plans.QueryPlan.transformExpressions(QueryPlan.scala:145)\n\tat org.apache.spark.sql.catalyst.analysis.Analyzer$ResolveDeserializer$$anonfun$apply$32.applyOrElse(Analyzer.scala:1904)\n\tat org.apache.spark.sql.catalyst.analysis.Analyzer$ResolveDeserializer$$anonfun$apply$32.applyOrElse(Analyzer.scala:1900)\n\tat org.apache.spark.sql.catalyst.plans.logical.LogicalPlan$$anonfun$resolveOperators$1.apply(LogicalPlan.scala:61)\n\tat org.apache.spark.sql.catalyst.plans.logical.LogicalPlan$$anonfun$resolveOperators$1.apply(LogicalPlan.scala:61)\n\tat org.apache.spark.sql.catalyst.trees.CurrentOrigin$.withOrigin(TreeNode.scala:69)\n\tat org.apache.spark.sql.catalyst.plans.logical.LogicalPlan.resolveOperators(LogicalPlan.scala:60)\n\tat org.apache.spark.sql.catalyst.analysis.Analyzer$ResolveDeserializer$.apply(Analyzer.scala:1900)\n\tat org.apache.spark.sql.catalyst.analysis.Analyzer$ResolveDeserializer$.apply(Analyzer.scala:1899)\n\tat org.apache.spark.sql.catalyst.rules.RuleExecutor$$anonfun$execute$1$$anonfun$apply$1.apply(RuleExecutor.scala:85)\n\tat org.apache.spark.sql.catalyst.rules.RuleExecutor$$anonfun$execute$1$$anonfun$apply$1.apply(RuleExecutor.scala:82)\n\tat scala.collection.LinearSeqOptimized$class.foldLeft(LinearSeqOptimized.scala:124)\n\tat scala.collection.immutable.List.foldLeft(List.scala:84)\n\tat org.apache.spark.sql.catalyst.rules.RuleExecutor$$anonfun$execute$1.apply(RuleExecutor.scala:82)\n\tat org.apache.spark.sql.catalyst.rules.RuleExecutor$$anonfun$execute$1.apply(RuleExecutor.scala:74)\n\tat scala.collection.immutable.List.foreach(List.scala:381)\n\tat org.apache.spark.sql.catalyst.rules.RuleExecutor.execute(RuleExecutor.scala:74)\n\tat org.apache.spark.sql.catalyst.encoders.ExpressionEncoder.resolveAndBind(ExpressionEncoder.scala:244)\n\tat org.apache.spark.sql.Dataset.<init>(Dataset.scala:210)\n\tat org.apache.spark.sql.Dataset.<init>(Dataset.scala:167)\n\tat org.apache.spark.sql.Dataset$.ofRows(Dataset.scala:65)\n\tat org.apache.spark.sql.Dataset.org$apache$spark$sql$Dataset$$withPlan(Dataset.scala:2603)\n\tat org.apache.spark.sql.Dataset.select(Dataset.scala:969)\n\tat org.apache.spark.ml.feature.StringIndexerModel.transform(StringIndexer.scala:185)\n\tat sun.reflect.NativeMethodAccessorImpl.invoke0(Native Method)\n\tat sun.reflect.NativeMethodAccessorImpl.invoke(NativeMethodAccessorImpl.java:62)\n\tat sun.reflect.DelegatingMethodAccessorImpl.invoke(DelegatingMethodAccessorImpl.java:43)\n\tat java.lang.reflect.Method.invoke(Method.java:498)\n\tat py4j.reflection.MethodInvoker.invoke(MethodInvoker.java:237)\n\tat py4j.reflection.ReflectionEngine.invoke(ReflectionEngine.java:357)\n\tat py4j.Gateway.invoke(Gateway.java:280)\n\tat py4j.commands.AbstractCommand.invokeMethod(AbstractCommand.java:132)\n\tat py4j.commands.CallCommand.execute(CallCommand.java:79)\n\tat py4j.GatewayConnection.run(GatewayConnection.java:214)\n\tat java.lang.Thread.run(Thread.java:745)\n",
     "output_type": "error",
     "traceback": [
      "\u001b[0;31m---------------------------------------------------------------------------\u001b[0m",
      "\u001b[0;31mPy4JJavaError\u001b[0m                             Traceback (most recent call last)",
      "\u001b[0;32m<ipython-input-56-ac45b317fe22>\u001b[0m in \u001b[0;36m<module>\u001b[0;34m()\u001b[0m\n\u001b[0;32m----> 1\u001b[0;31m \u001b[0mtest_df\u001b[0m \u001b[0;34m=\u001b[0m \u001b[0mmodel\u001b[0m\u001b[0;34m.\u001b[0m\u001b[0mtransform\u001b[0m\u001b[0;34m(\u001b[0m\u001b[0mtest_df\u001b[0m\u001b[0;34m)\u001b[0m\u001b[0;34m\u001b[0m\u001b[0m\n\u001b[0m",
      "\u001b[0;32m/spark/python/pyspark/ml/base.py\u001b[0m in \u001b[0;36mtransform\u001b[0;34m(self, dataset, params)\u001b[0m\n\u001b[1;32m    103\u001b[0m                 \u001b[0;32mreturn\u001b[0m \u001b[0mself\u001b[0m\u001b[0;34m.\u001b[0m\u001b[0mcopy\u001b[0m\u001b[0;34m(\u001b[0m\u001b[0mparams\u001b[0m\u001b[0;34m)\u001b[0m\u001b[0;34m.\u001b[0m\u001b[0m_transform\u001b[0m\u001b[0;34m(\u001b[0m\u001b[0mdataset\u001b[0m\u001b[0;34m)\u001b[0m\u001b[0;34m\u001b[0m\u001b[0m\n\u001b[1;32m    104\u001b[0m             \u001b[0;32melse\u001b[0m\u001b[0;34m:\u001b[0m\u001b[0;34m\u001b[0m\u001b[0m\n\u001b[0;32m--> 105\u001b[0;31m                 \u001b[0;32mreturn\u001b[0m \u001b[0mself\u001b[0m\u001b[0;34m.\u001b[0m\u001b[0m_transform\u001b[0m\u001b[0;34m(\u001b[0m\u001b[0mdataset\u001b[0m\u001b[0;34m)\u001b[0m\u001b[0;34m\u001b[0m\u001b[0m\n\u001b[0m\u001b[1;32m    106\u001b[0m         \u001b[0;32melse\u001b[0m\u001b[0;34m:\u001b[0m\u001b[0;34m\u001b[0m\u001b[0m\n\u001b[1;32m    107\u001b[0m             \u001b[0;32mraise\u001b[0m \u001b[0mValueError\u001b[0m\u001b[0;34m(\u001b[0m\u001b[0;34m\"Params must be a param map but got %s.\"\u001b[0m \u001b[0;34m%\u001b[0m \u001b[0mtype\u001b[0m\u001b[0;34m(\u001b[0m\u001b[0mparams\u001b[0m\u001b[0;34m)\u001b[0m\u001b[0;34m)\u001b[0m\u001b[0;34m\u001b[0m\u001b[0m\n",
      "\u001b[0;32m/spark/python/pyspark/ml/wrapper.py\u001b[0m in \u001b[0;36m_transform\u001b[0;34m(self, dataset)\u001b[0m\n\u001b[1;32m    227\u001b[0m     \u001b[0;32mdef\u001b[0m \u001b[0m_transform\u001b[0m\u001b[0;34m(\u001b[0m\u001b[0mself\u001b[0m\u001b[0;34m,\u001b[0m \u001b[0mdataset\u001b[0m\u001b[0;34m)\u001b[0m\u001b[0;34m:\u001b[0m\u001b[0;34m\u001b[0m\u001b[0m\n\u001b[1;32m    228\u001b[0m         \u001b[0mself\u001b[0m\u001b[0;34m.\u001b[0m\u001b[0m_transfer_params_to_java\u001b[0m\u001b[0;34m(\u001b[0m\u001b[0;34m)\u001b[0m\u001b[0;34m\u001b[0m\u001b[0m\n\u001b[0;32m--> 229\u001b[0;31m         \u001b[0;32mreturn\u001b[0m \u001b[0mDataFrame\u001b[0m\u001b[0;34m(\u001b[0m\u001b[0mself\u001b[0m\u001b[0;34m.\u001b[0m\u001b[0m_java_obj\u001b[0m\u001b[0;34m.\u001b[0m\u001b[0mtransform\u001b[0m\u001b[0;34m(\u001b[0m\u001b[0mdataset\u001b[0m\u001b[0;34m.\u001b[0m\u001b[0m_jdf\u001b[0m\u001b[0;34m)\u001b[0m\u001b[0;34m,\u001b[0m \u001b[0mdataset\u001b[0m\u001b[0;34m.\u001b[0m\u001b[0msql_ctx\u001b[0m\u001b[0;34m)\u001b[0m\u001b[0;34m\u001b[0m\u001b[0m\n\u001b[0m\u001b[1;32m    230\u001b[0m \u001b[0;34m\u001b[0m\u001b[0m\n\u001b[1;32m    231\u001b[0m \u001b[0;34m\u001b[0m\u001b[0m\n",
      "\u001b[0;32m/spark/python/lib/py4j-0.10.3-src.zip/py4j/java_gateway.py\u001b[0m in \u001b[0;36m__call__\u001b[0;34m(self, *args)\u001b[0m\n\u001b[1;32m   1131\u001b[0m         \u001b[0manswer\u001b[0m \u001b[0;34m=\u001b[0m \u001b[0mself\u001b[0m\u001b[0;34m.\u001b[0m\u001b[0mgateway_client\u001b[0m\u001b[0;34m.\u001b[0m\u001b[0msend_command\u001b[0m\u001b[0;34m(\u001b[0m\u001b[0mcommand\u001b[0m\u001b[0;34m)\u001b[0m\u001b[0;34m\u001b[0m\u001b[0m\n\u001b[1;32m   1132\u001b[0m         return_value = get_return_value(\n\u001b[0;32m-> 1133\u001b[0;31m             answer, self.gateway_client, self.target_id, self.name)\n\u001b[0m\u001b[1;32m   1134\u001b[0m \u001b[0;34m\u001b[0m\u001b[0m\n\u001b[1;32m   1135\u001b[0m         \u001b[0;32mfor\u001b[0m \u001b[0mtemp_arg\u001b[0m \u001b[0;32min\u001b[0m \u001b[0mtemp_args\u001b[0m\u001b[0;34m:\u001b[0m\u001b[0;34m\u001b[0m\u001b[0m\n",
      "\u001b[0;32m/spark/python/pyspark/sql/utils.py\u001b[0m in \u001b[0;36mdeco\u001b[0;34m(*a, **kw)\u001b[0m\n\u001b[1;32m     61\u001b[0m     \u001b[0;32mdef\u001b[0m \u001b[0mdeco\u001b[0m\u001b[0;34m(\u001b[0m\u001b[0;34m*\u001b[0m\u001b[0ma\u001b[0m\u001b[0;34m,\u001b[0m \u001b[0;34m**\u001b[0m\u001b[0mkw\u001b[0m\u001b[0;34m)\u001b[0m\u001b[0;34m:\u001b[0m\u001b[0;34m\u001b[0m\u001b[0m\n\u001b[1;32m     62\u001b[0m         \u001b[0;32mtry\u001b[0m\u001b[0;34m:\u001b[0m\u001b[0;34m\u001b[0m\u001b[0m\n\u001b[0;32m---> 63\u001b[0;31m             \u001b[0;32mreturn\u001b[0m \u001b[0mf\u001b[0m\u001b[0;34m(\u001b[0m\u001b[0;34m*\u001b[0m\u001b[0ma\u001b[0m\u001b[0;34m,\u001b[0m \u001b[0;34m**\u001b[0m\u001b[0mkw\u001b[0m\u001b[0;34m)\u001b[0m\u001b[0;34m\u001b[0m\u001b[0m\n\u001b[0m\u001b[1;32m     64\u001b[0m         \u001b[0;32mexcept\u001b[0m \u001b[0mpy4j\u001b[0m\u001b[0;34m.\u001b[0m\u001b[0mprotocol\u001b[0m\u001b[0;34m.\u001b[0m\u001b[0mPy4JJavaError\u001b[0m \u001b[0;32mas\u001b[0m \u001b[0me\u001b[0m\u001b[0;34m:\u001b[0m\u001b[0;34m\u001b[0m\u001b[0m\n\u001b[1;32m     65\u001b[0m             \u001b[0ms\u001b[0m \u001b[0;34m=\u001b[0m \u001b[0me\u001b[0m\u001b[0;34m.\u001b[0m\u001b[0mjava_exception\u001b[0m\u001b[0;34m.\u001b[0m\u001b[0mtoString\u001b[0m\u001b[0;34m(\u001b[0m\u001b[0;34m)\u001b[0m\u001b[0;34m\u001b[0m\u001b[0m\n",
      "\u001b[0;32m/spark/python/lib/py4j-0.10.3-src.zip/py4j/protocol.py\u001b[0m in \u001b[0;36mget_return_value\u001b[0;34m(answer, gateway_client, target_id, name)\u001b[0m\n\u001b[1;32m    317\u001b[0m                 raise Py4JJavaError(\n\u001b[1;32m    318\u001b[0m                     \u001b[0;34m\"An error occurred while calling {0}{1}{2}.\\n\"\u001b[0m\u001b[0;34m.\u001b[0m\u001b[0;34m\u001b[0m\u001b[0m\n\u001b[0;32m--> 319\u001b[0;31m                     format(target_id, \".\", name), value)\n\u001b[0m\u001b[1;32m    320\u001b[0m             \u001b[0;32melse\u001b[0m\u001b[0;34m:\u001b[0m\u001b[0;34m\u001b[0m\u001b[0m\n\u001b[1;32m    321\u001b[0m                 raise Py4JError(\n",
      "\u001b[0;31mPy4JJavaError\u001b[0m: An error occurred while calling o269.transform.\n: java.lang.NullPointerException\n\tat org.apache.spark.sql.types.Metadata$.org$apache$spark$sql$types$Metadata$$hash(Metadata.scala:215)\n\tat org.apache.spark.sql.types.Metadata$$anonfun$org$apache$spark$sql$types$Metadata$$hash$2.apply(Metadata.scala:203)\n\tat org.apache.spark.sql.types.Metadata$$anonfun$org$apache$spark$sql$types$Metadata$$hash$2.apply(Metadata.scala:203)\n\tat scala.collection.TraversableLike$$anonfun$map$1.apply(TraversableLike.scala:234)\n\tat scala.collection.TraversableLike$$anonfun$map$1.apply(TraversableLike.scala:234)\n\tat scala.collection.IndexedSeqOptimized$class.foreach(IndexedSeqOptimized.scala:33)\n\tat scala.collection.mutable.WrappedArray.foreach(WrappedArray.scala:35)\n\tat scala.collection.TraversableLike$class.map(TraversableLike.scala:234)\n\tat scala.collection.AbstractTraversable.map(Traversable.scala:104)\n\tat org.apache.spark.sql.types.Metadata$.org$apache$spark$sql$types$Metadata$$hash(Metadata.scala:203)\n\tat org.apache.spark.sql.types.Metadata$$anonfun$org$apache$spark$sql$types$Metadata$$hash$1.apply(Metadata.scala:200)\n\tat org.apache.spark.sql.types.Metadata$$anonfun$org$apache$spark$sql$types$Metadata$$hash$1.apply(Metadata.scala:200)\n\tat scala.collection.MapLike$MappedValues$$anonfun$foreach$3.apply(MapLike.scala:245)\n\tat scala.collection.MapLike$MappedValues$$anonfun$foreach$3.apply(MapLike.scala:245)\n\tat scala.collection.TraversableLike$WithFilter$$anonfun$foreach$1.apply(TraversableLike.scala:733)\n\tat scala.collection.immutable.Map$Map3.foreach(Map.scala:161)\n\tat scala.collection.TraversableLike$WithFilter.foreach(TraversableLike.scala:732)\n\tat scala.collection.MapLike$MappedValues.foreach(MapLike.scala:245)\n\tat scala.util.hashing.MurmurHash3.unorderedHash(MurmurHash3.scala:91)\n\tat scala.util.hashing.MurmurHash3$.mapHash(MurmurHash3.scala:222)\n\tat scala.collection.GenMapLike$class.hashCode(GenMapLike.scala:35)\n\tat scala.collection.AbstractMap.hashCode(Map.scala:59)\n\tat scala.runtime.ScalaRunTime$.hash(ScalaRunTime.scala:206)\n\tat org.apache.spark.sql.types.Metadata$.org$apache$spark$sql$types$Metadata$$hash(Metadata.scala:200)\n\tat org.apache.spark.sql.types.Metadata$$anonfun$org$apache$spark$sql$types$Metadata$$hash$1.apply(Metadata.scala:200)\n\tat org.apache.spark.sql.types.Metadata$$anonfun$org$apache$spark$sql$types$Metadata$$hash$1.apply(Metadata.scala:200)\n\tat scala.collection.MapLike$MappedValues$$anonfun$foreach$3.apply(MapLike.scala:245)\n\tat scala.collection.MapLike$MappedValues$$anonfun$foreach$3.apply(MapLike.scala:245)\n\tat scala.collection.TraversableLike$WithFilter$$anonfun$foreach$1.apply(TraversableLike.scala:733)\n\tat scala.collection.immutable.Map$Map1.foreach(Map.scala:116)\n\tat scala.collection.TraversableLike$WithFilter.foreach(TraversableLike.scala:732)\n\tat scala.collection.MapLike$MappedValues.foreach(MapLike.scala:245)\n\tat scala.util.hashing.MurmurHash3.unorderedHash(MurmurHash3.scala:91)\n\tat scala.util.hashing.MurmurHash3$.mapHash(MurmurHash3.scala:222)\n\tat scala.collection.GenMapLike$class.hashCode(GenMapLike.scala:35)\n\tat scala.collection.AbstractMap.hashCode(Map.scala:59)\n\tat scala.runtime.ScalaRunTime$.hash(ScalaRunTime.scala:206)\n\tat org.apache.spark.sql.types.Metadata$.org$apache$spark$sql$types$Metadata$$hash(Metadata.scala:200)\n\tat org.apache.spark.sql.types.Metadata._hashCode$lzycompute(Metadata.scala:107)\n\tat org.apache.spark.sql.types.Metadata._hashCode(Metadata.scala:107)\n\tat org.apache.spark.sql.types.Metadata.hashCode(Metadata.scala:108)\n\tat org.apache.spark.sql.catalyst.expressions.AttributeReference.hashCode(namedExpressions.scala:247)\n\tat scala.runtime.ScalaRunTime$.hash(ScalaRunTime.scala:206)\n\tat scala.collection.immutable.HashSet.elemHashCode(HashSet.scala:177)\n\tat scala.collection.immutable.HashSet.computeHash(HashSet.scala:186)\n\tat scala.collection.immutable.HashSet.$plus(HashSet.scala:84)\n\tat scala.collection.immutable.HashSet.$plus(HashSet.scala:35)\n\tat scala.collection.mutable.SetBuilder.$plus$eq(SetBuilder.scala:22)\n\tat scala.collection.mutable.SetBuilder.$plus$eq(SetBuilder.scala:20)\n\tat scala.collection.generic.Growable$class.loop$1(Growable.scala:53)\n\tat scala.collection.generic.Growable$class.$plus$plus$eq(Growable.scala:57)\n\tat scala.collection.mutable.SetBuilder.$plus$plus$eq(SetBuilder.scala:20)\n\tat scala.collection.TraversableLike$class.to(TraversableLike.scala:590)\n\tat scala.collection.AbstractTraversable.to(Traversable.scala:104)\n\tat scala.collection.TraversableOnce$class.toSet(TraversableOnce.scala:304)\n\tat scala.collection.AbstractTraversable.toSet(Traversable.scala:104)\n\tat org.apache.spark.sql.catalyst.trees.TreeNode.containsChild$lzycompute(TreeNode.scala:88)\n\tat org.apache.spark.sql.catalyst.trees.TreeNode.containsChild(TreeNode.scala:88)\n\tat org.apache.spark.sql.catalyst.trees.TreeNode$$anonfun$5$$anonfun$apply$11.apply(TreeNode.scala:349)\n\tat scala.collection.TraversableLike$$anonfun$map$1.apply(TraversableLike.scala:234)\n\tat scala.collection.TraversableLike$$anonfun$map$1.apply(TraversableLike.scala:234)\n\tat scala.collection.immutable.List.foreach(List.scala:381)\n\tat scala.collection.TraversableLike$class.map(TraversableLike.scala:234)\n\tat scala.collection.immutable.List.map(List.scala:285)\n\tat org.apache.spark.sql.catalyst.trees.TreeNode$$anonfun$5.apply(TreeNode.scala:348)\n\tat org.apache.spark.sql.catalyst.trees.TreeNode.mapProductIterator(TreeNode.scala:179)\n\tat org.apache.spark.sql.catalyst.trees.TreeNode.transformChildren(TreeNode.scala:319)\n\tat org.apache.spark.sql.catalyst.trees.TreeNode.transformDown(TreeNode.scala:286)\n\tat org.apache.spark.sql.catalyst.plans.QueryPlan.transformExpressionDown$1(QueryPlan.scala:157)\n\tat org.apache.spark.sql.catalyst.plans.QueryPlan.org$apache$spark$sql$catalyst$plans$QueryPlan$$recursiveTransform$1(QueryPlan.scala:167)\n\tat org.apache.spark.sql.catalyst.plans.QueryPlan$$anonfun$4.apply(QueryPlan.scala:176)\n\tat org.apache.spark.sql.catalyst.trees.TreeNode.mapProductIterator(TreeNode.scala:179)\n\tat org.apache.spark.sql.catalyst.plans.QueryPlan.transformExpressionsDown(QueryPlan.scala:176)\n\tat org.apache.spark.sql.catalyst.plans.QueryPlan.transformExpressions(QueryPlan.scala:145)\n\tat org.apache.spark.sql.catalyst.analysis.Analyzer$ResolveDeserializer$$anonfun$apply$32.applyOrElse(Analyzer.scala:1904)\n\tat org.apache.spark.sql.catalyst.analysis.Analyzer$ResolveDeserializer$$anonfun$apply$32.applyOrElse(Analyzer.scala:1900)\n\tat org.apache.spark.sql.catalyst.plans.logical.LogicalPlan$$anonfun$resolveOperators$1.apply(LogicalPlan.scala:61)\n\tat org.apache.spark.sql.catalyst.plans.logical.LogicalPlan$$anonfun$resolveOperators$1.apply(LogicalPlan.scala:61)\n\tat org.apache.spark.sql.catalyst.trees.CurrentOrigin$.withOrigin(TreeNode.scala:69)\n\tat org.apache.spark.sql.catalyst.plans.logical.LogicalPlan.resolveOperators(LogicalPlan.scala:60)\n\tat org.apache.spark.sql.catalyst.analysis.Analyzer$ResolveDeserializer$.apply(Analyzer.scala:1900)\n\tat org.apache.spark.sql.catalyst.analysis.Analyzer$ResolveDeserializer$.apply(Analyzer.scala:1899)\n\tat org.apache.spark.sql.catalyst.rules.RuleExecutor$$anonfun$execute$1$$anonfun$apply$1.apply(RuleExecutor.scala:85)\n\tat org.apache.spark.sql.catalyst.rules.RuleExecutor$$anonfun$execute$1$$anonfun$apply$1.apply(RuleExecutor.scala:82)\n\tat scala.collection.LinearSeqOptimized$class.foldLeft(LinearSeqOptimized.scala:124)\n\tat scala.collection.immutable.List.foldLeft(List.scala:84)\n\tat org.apache.spark.sql.catalyst.rules.RuleExecutor$$anonfun$execute$1.apply(RuleExecutor.scala:82)\n\tat org.apache.spark.sql.catalyst.rules.RuleExecutor$$anonfun$execute$1.apply(RuleExecutor.scala:74)\n\tat scala.collection.immutable.List.foreach(List.scala:381)\n\tat org.apache.spark.sql.catalyst.rules.RuleExecutor.execute(RuleExecutor.scala:74)\n\tat org.apache.spark.sql.catalyst.encoders.ExpressionEncoder.resolveAndBind(ExpressionEncoder.scala:244)\n\tat org.apache.spark.sql.Dataset.<init>(Dataset.scala:210)\n\tat org.apache.spark.sql.Dataset.<init>(Dataset.scala:167)\n\tat org.apache.spark.sql.Dataset$.ofRows(Dataset.scala:65)\n\tat org.apache.spark.sql.Dataset.org$apache$spark$sql$Dataset$$withPlan(Dataset.scala:2603)\n\tat org.apache.spark.sql.Dataset.select(Dataset.scala:969)\n\tat org.apache.spark.ml.feature.StringIndexerModel.transform(StringIndexer.scala:185)\n\tat sun.reflect.NativeMethodAccessorImpl.invoke0(Native Method)\n\tat sun.reflect.NativeMethodAccessorImpl.invoke(NativeMethodAccessorImpl.java:62)\n\tat sun.reflect.DelegatingMethodAccessorImpl.invoke(DelegatingMethodAccessorImpl.java:43)\n\tat java.lang.reflect.Method.invoke(Method.java:498)\n\tat py4j.reflection.MethodInvoker.invoke(MethodInvoker.java:237)\n\tat py4j.reflection.ReflectionEngine.invoke(ReflectionEngine.java:357)\n\tat py4j.Gateway.invoke(Gateway.java:280)\n\tat py4j.commands.AbstractCommand.invokeMethod(AbstractCommand.java:132)\n\tat py4j.commands.CallCommand.execute(CallCommand.java:79)\n\tat py4j.GatewayConnection.run(GatewayConnection.java:214)\n\tat java.lang.Thread.run(Thread.java:745)\n"
     ]
    }
   ],
   "source": [
    "train_df = model.transform(train_df)"
   ]
  },
  {
   "cell_type": "code",
   "execution_count": 57,
   "metadata": {
    "collapsed": false
   },
   "outputs": [
    {
     "name": "stdout",
     "output_type": "stream",
     "text": [
      "+---------+-----+\n",
      "|   rarity|count|\n",
      "+---------+-----+\n",
      "|     null| 1258|\n",
      "|     FREE|  101|\n",
      "|     EPIC|  138|\n",
      "|     RARE|  239|\n",
      "|   COMMON|  543|\n",
      "|LEGENDARY|  242|\n",
      "+---------+-----+\n",
      "\n"
     ]
    }
   ],
   "source": [
    "train_df.groupBy('rarity').count().show()"
   ]
  },
  {
   "cell_type": "code",
   "execution_count": 58,
   "metadata": {
    "collapsed": false
   },
   "outputs": [],
   "source": [
    "train_df = test_df.fillna(\"NONE\", \"rarity\")"
   ]
  },
  {
   "cell_type": "code",
   "execution_count": 59,
   "metadata": {
    "collapsed": false
   },
   "outputs": [
    {
     "name": "stdout",
     "output_type": "stream",
     "text": [
      "+---------+-----+\n",
      "|   rarity|count|\n",
      "+---------+-----+\n",
      "|     FREE|  101|\n",
      "|     EPIC|  138|\n",
      "|     RARE|  239|\n",
      "|     NONE| 1258|\n",
      "|   COMMON|  543|\n",
      "|LEGENDARY|  242|\n",
      "+---------+-----+\n",
      "\n"
     ]
    }
   ],
   "source": [
    "train_df.groupBy('rarity').count().show()"
   ]
  },
  {
   "cell_type": "code",
   "execution_count": 60,
   "metadata": {
    "collapsed": true
   },
   "outputs": [],
   "source": [
    "rarityIndexer = StringIndexer(inputCol=\"rarity\", outputCol=\"rarityIndex\")\n",
    "model = rarityIndexer.fit(train_df)\n"
   ]
  },
  {
   "cell_type": "code",
   "execution_count": 61,
   "metadata": {
    "collapsed": false
   },
   "outputs": [],
   "source": [
    "train_df = model.transform(train_df)"
   ]
  },
  {
   "cell_type": "markdown",
   "metadata": {},
   "source": [
    "#### The RDD Way"
   ]
  },
  {
   "cell_type": "code",
   "execution_count": 65,
   "metadata": {
    "collapsed": false
   },
   "outputs": [],
   "source": [
    "train_rdd = train_df.select('attack', 'playerClassIndex', 'cost', 'rarityIndex').where(test_df.attack.isNotNull()).rdd"
   ]
  },
  {
   "cell_type": "code",
   "execution_count": 67,
   "metadata": {
    "collapsed": false
   },
   "outputs": [
    {
     "data": {
      "text/plain": [
       "[Row(attack=4, playerClassIndex=1.0, cost=5, rarityIndex=1.0),\n",
       " Row(attack=5, playerClassIndex=0.0, cost=4, rarityIndex=1.0),\n",
       " Row(attack=3, playerClassIndex=2.0, cost=3, rarityIndex=3.0),\n",
       " Row(attack=5, playerClassIndex=6.0, cost=4, rarityIndex=3.0),\n",
       " Row(attack=7, playerClassIndex=0.0, cost=6, rarityIndex=2.0)]"
      ]
     },
     "execution_count": 67,
     "metadata": {},
     "output_type": "execute_result"
    }
   ],
   "source": [
    "train_rdd.take(5)"
   ]
  },
  {
   "cell_type": "code",
   "execution_count": 69,
   "metadata": {
    "collapsed": false
   },
   "outputs": [],
   "source": [
    "train_points_rdd = train_rdd.map(lambda x: LabeledPoint(x.attack, [x.playerClassIndex, x.cost, x.rarityIndex]))"
   ]
  },
  {
   "cell_type": "code",
   "execution_count": 70,
   "metadata": {
    "collapsed": false
   },
   "outputs": [
    {
     "data": {
      "text/plain": [
       "[LabeledPoint(4.0, [1.0,5.0,1.0]),\n",
       " LabeledPoint(5.0, [0.0,4.0,1.0]),\n",
       " LabeledPoint(3.0, [2.0,3.0,3.0]),\n",
       " LabeledPoint(5.0, [6.0,4.0,3.0]),\n",
       " LabeledPoint(7.0, [0.0,6.0,2.0])]"
      ]
     },
     "execution_count": 70,
     "metadata": {},
     "output_type": "execute_result"
    }
   ],
   "source": [
    "train_points_rdd.take(5)"
   ]
  },
  {
   "cell_type": "code",
   "execution_count": 84,
   "metadata": {
    "collapsed": true
   },
   "outputs": [],
   "source": [
    "training, test = train_points_rdd.randomSplit([0.6, 0.4])"
   ]
  },
  {
   "cell_type": "code",
   "execution_count": 85,
   "metadata": {
    "collapsed": false
   },
   "outputs": [],
   "source": [
    "model = RandomForest.trainClassifier(\n",
    "    data=training, \n",
    "    numClasses=31, \n",
    "    categoricalFeaturesInfo={}, \n",
    "    numTrees=3, \n",
    "    seed=42\n",
    ")"
   ]
  },
  {
   "cell_type": "code",
   "execution_count": 86,
   "metadata": {
    "collapsed": false
   },
   "outputs": [
    {
     "name": "stdout",
     "output_type": "stream",
     "text": [
      "TreeEnsembleModel classifier with 3 trees\n",
      "\n",
      "  Tree 0:\n",
      "    If (feature 1 <= 1.0)\n",
      "     If (feature 1 <= 0.0)\n",
      "      If (feature 0 <= 3.0)\n",
      "       If (feature 2 <= 0.0)\n",
      "        Predict: 1.0\n",
      "       Else (feature 2 > 0.0)\n",
      "        Predict: 1.0\n",
      "      Else (feature 0 > 3.0)\n",
      "       Predict: 0.0\n",
      "     Else (feature 1 > 0.0)\n",
      "      If (feature 2 <= 3.0)\n",
      "       If (feature 2 <= 2.0)\n",
      "        Predict: 1.0\n",
      "       Else (feature 2 > 2.0)\n",
      "        Predict: 2.0\n",
      "      Else (feature 2 > 3.0)\n",
      "       If (feature 2 <= 4.0)\n",
      "        Predict: 1.0\n",
      "       Else (feature 2 > 4.0)\n",
      "        Predict: 1.0\n",
      "    Else (feature 1 > 1.0)\n",
      "     If (feature 1 <= 3.0)\n",
      "      If (feature 0 <= 0.0)\n",
      "       If (feature 1 <= 2.0)\n",
      "        Predict: 2.0\n",
      "       Else (feature 1 > 2.0)\n",
      "        Predict: 3.0\n",
      "      Else (feature 0 > 0.0)\n",
      "       If (feature 2 <= 3.0)\n",
      "        Predict: 3.0\n",
      "       Else (feature 2 > 3.0)\n",
      "        Predict: 1.0\n",
      "     Else (feature 1 > 3.0)\n",
      "      If (feature 1 <= 4.0)\n",
      "       If (feature 2 <= 2.0)\n",
      "        Predict: 3.0\n",
      "       Else (feature 2 > 2.0)\n",
      "        Predict: 4.0\n",
      "      Else (feature 1 > 4.0)\n",
      "       If (feature 1 <= 9.0)\n",
      "        Predict: 5.0\n",
      "       Else (feature 1 > 9.0)\n",
      "        Predict: 8.0\n",
      "  Tree 1:\n",
      "    If (feature 2 <= 4.0)\n",
      "     If (feature 0 <= 0.0)\n",
      "      If (feature 1 <= 3.0)\n",
      "       If (feature 2 <= 0.0)\n",
      "        Predict: 1.0\n",
      "       Else (feature 2 > 0.0)\n",
      "        Predict: 2.0\n",
      "      Else (feature 1 > 3.0)\n",
      "       If (feature 2 <= 2.0)\n",
      "        Predict: 5.0\n",
      "       Else (feature 2 > 2.0)\n",
      "        Predict: 3.0\n",
      "     Else (feature 0 > 0.0)\n",
      "      If (feature 1 <= 4.0)\n",
      "       If (feature 0 <= 3.0)\n",
      "        Predict: 2.0\n",
      "       Else (feature 0 > 3.0)\n",
      "        Predict: 3.0\n",
      "      Else (feature 1 > 4.0)\n",
      "       If (feature 0 <= 1.0)\n",
      "        Predict: 4.0\n",
      "       Else (feature 0 > 1.0)\n",
      "        Predict: 6.0\n",
      "    Else (feature 2 > 4.0)\n",
      "     If (feature 0 <= 6.0)\n",
      "      If (feature 0 <= 3.0)\n",
      "       If (feature 0 <= 0.0)\n",
      "        Predict: 1.0\n",
      "       Else (feature 0 > 0.0)\n",
      "        Predict: 1.0\n",
      "      Else (feature 0 > 3.0)\n",
      "       Predict: 0.0\n",
      "     Else (feature 0 > 6.0)\n",
      "      Predict: 1.0\n",
      "  Tree 2:\n",
      "    If (feature 2 <= 1.0)\n",
      "     If (feature 0 <= 0.0)\n",
      "      If (feature 1 <= 3.0)\n",
      "       If (feature 2 <= 0.0)\n",
      "        Predict: 1.0\n",
      "       Else (feature 2 > 0.0)\n",
      "        Predict: 1.0\n",
      "      Else (feature 1 > 3.0)\n",
      "       If (feature 2 <= 0.0)\n",
      "        Predict: 5.0\n",
      "       Else (feature 2 > 0.0)\n",
      "        Predict: 4.0\n",
      "     Else (feature 0 > 0.0)\n",
      "      If (feature 1 <= 1.0)\n",
      "       If (feature 1 <= 0.0)\n",
      "        Predict: 0.0\n",
      "       Else (feature 1 > 0.0)\n",
      "        Predict: 1.0\n",
      "      Else (feature 1 > 1.0)\n",
      "       If (feature 1 <= 5.0)\n",
      "        Predict: 3.0\n",
      "       Else (feature 1 > 5.0)\n",
      "        Predict: 5.0\n",
      "    Else (feature 2 > 1.0)\n",
      "     If (feature 2 <= 2.0)\n",
      "      If (feature 0 <= 0.0)\n",
      "       If (feature 1 <= 8.0)\n",
      "        Predict: 3.0\n",
      "       Else (feature 1 > 8.0)\n",
      "        Predict: 10.0\n",
      "      Else (feature 0 > 0.0)\n",
      "       If (feature 1 <= 8.0)\n",
      "        Predict: 8.0\n",
      "       Else (feature 1 > 8.0)\n",
      "        Predict: 5.0\n",
      "     Else (feature 2 > 2.0)\n",
      "      If (feature 0 <= 2.0)\n",
      "       If (feature 1 <= 3.0)\n",
      "        Predict: 2.0\n",
      "       Else (feature 1 > 3.0)\n",
      "        Predict: 2.0\n",
      "      Else (feature 0 > 2.0)\n",
      "       If (feature 2 <= 3.0)\n",
      "        Predict: 3.0\n",
      "       Else (feature 2 > 3.0)\n",
      "        Predict: 0.0\n",
      "\n"
     ]
    }
   ],
   "source": [
    "print(model.toDebugString())"
   ]
  },
  {
   "cell_type": "code",
   "execution_count": 96,
   "metadata": {
    "collapsed": false
   },
   "outputs": [
    {
     "data": {
      "text/plain": [
       "MapPartitionsRDD[306] at mapPartitions at PythonMLLibAPI.scala:1323"
      ]
     },
     "execution_count": 96,
     "metadata": {},
     "output_type": "execute_result"
    }
   ],
   "source": [
    "predictions = model.predict(test.map(lambda lp: lp.features))\n",
    "predictions"
   ]
  },
  {
   "cell_type": "code",
   "execution_count": 102,
   "metadata": {
    "collapsed": false
   },
   "outputs": [
    {
     "name": "stdout",
     "output_type": "stream",
     "text": [
      "Test Error = 0.7427184466019418\n"
     ]
    }
   ],
   "source": [
    "labelsAndPredictions = test.map(lambda lp: lp.label).zip(predictions)\n",
    "testErr = labelsAndPredictions.filter(lambda v: v[0] != v[1]).count() / float(test.count())\n",
    "print('Test Error = ' + str(testErr))\n"
   ]
  },
  {
   "cell_type": "code",
   "execution_count": 112,
   "metadata": {
    "collapsed": false
   },
   "outputs": [],
   "source": [
    "df_plot = labelsAndPredictions.toDF(['label', 'prediction']).toPandas()"
   ]
  },
  {
   "cell_type": "code",
   "execution_count": 113,
   "metadata": {
    "collapsed": false
   },
   "outputs": [
    {
     "data": {
      "text/plain": [
       "<matplotlib.axes._subplots.AxesSubplot at 0x7f6177049e48>"
      ]
     },
     "execution_count": 113,
     "metadata": {},
     "output_type": "execute_result"
    },
    {
     "data": {
      "image/png": "[encoded data removed]",
      "text/plain": [
       "<matplotlib.figure.Figure at 0x7f61770afa90>"
      ]
     },
     "metadata": {},
     "output_type": "display_data"
    }
   ],
   "source": [
    "# Show the results of a linear regression within each dataset\n",
    "p = sns.pointplot(\n",
    "    x='label', \n",
    "    y='prediction', \n",
    "    data=df_plot,\n",
    "    size=8\n",
    ")\n",
    "p"
   ]
  },
  {
   "cell_type": "code",
   "execution_count": null,
   "metadata": {
    "collapsed": true
   },
   "outputs": [],
   "source": []
  }
 ],
 "metadata": {
  "kernelspec": {
   "display_name": "Python 3",
   "language": "python",
   "name": "python3"
  },
  "language_info": {
   "codemirror_mode": {
    "name": "ipython",
    "version": 3
   },
   "file_extension": ".py",
   "mimetype": "text/x-python",
   "name": "python",
   "nbconvert_exporter": "python",
   "pygments_lexer": "ipython3",
   "version": "3.5.2"
  }
 },
 "nbformat": 4,
 "nbformat_minor": 1
}
